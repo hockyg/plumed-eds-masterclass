{
 "cells": [
  {
   "cell_type": "code",
   "execution_count": 1,
   "metadata": {},
   "outputs": [
    {
     "name": "stdout",
     "output_type": "stream",
     "text": [
      "Populating the interactive namespace from numpy and matplotlib\n"
     ]
    }
   ],
   "source": [
    "%pylab inline\n",
    "from matplotlib import pylab as plt"
   ]
  },
  {
   "cell_type": "code",
   "execution_count": 2,
   "metadata": {},
   "outputs": [],
   "source": [
    "cv_ala2_unbiased = np.loadtxt('unbiased/ala2_unbiased.colvars.dat')\n",
    "cv_ala2_eds_psi = np.loadtxt('eds/ala2_eds_psi.colvars.dat')\n",
    "cv_ala2_eds_phi = np.loadtxt('eds/ala2_eds_phi.colvars.dat')\n"
   ]
  },
  {
   "cell_type": "code",
   "execution_count": null,
   "metadata": {},
   "outputs": [],
   "source": []
  },
  {
   "cell_type": "code",
   "execution_count": 3,
   "metadata": {},
   "outputs": [
    {
     "name": "stderr",
     "output_type": "stream",
     "text": [
      "<ipython-input-3-3e3bd05cd108>:3: RuntimeWarning: divide by zero encountered in log\n",
      "  pe=-np.log(h.T)\n",
      "/home/gmh4/.local/lib/python3.8/site-packages/numpy/core/getlimits.py:499: UserWarning: The value of the smallest subnormal for <class 'numpy.float64'> type is zero.\n",
      "  setattr(self, word, getattr(machar, word).flat[0])\n",
      "/home/gmh4/.local/lib/python3.8/site-packages/numpy/core/getlimits.py:89: UserWarning: The value of the smallest subnormal for <class 'numpy.float64'> type is zero.\n",
      "  return self._float_to_str(self.smallest_subnormal)\n"
     ]
    },
    {
     "data": {
      "image/png": "[encoded data removed]",
      "text/plain": [
       "<Figure size 144x144 with 2 Axes>"
      ]
     },
     "metadata": {
      "needs_background": "light"
     },
     "output_type": "display_data"
    }
   ],
   "source": [
    "plt.figure(figsize=(2,2))\n",
    "h, xedges, yedges = np.histogram2d(cv_ala2_unbiased[:,1],cv_ala2_unbiased[:,2],bins=(40,40),density=True)\n",
    "pe=-np.log(h.T)\n",
    "pe-=pe.min()\n",
    "plt.contourf(( xedges[:-1]+xedges[1:])*0.5, (yedges[1:]+yedges[:-1])*0.5, pe)\n",
    "plt.ylabel('$\\psi$')\n",
    "plt.xlabel('$\\phi$')\n",
    "plt.colorbar(label=\"FES (kT)\")\n",
    "plt.savefig('../figures/masterclass-22-6-ala2_unbiased.png',dpi=90)"
   ]
  },
  {
   "cell_type": "code",
   "execution_count": 4,
   "metadata": {
    "scrolled": true
   },
   "outputs": [
    {
     "name": "stderr",
     "output_type": "stream",
     "text": [
      "<ipython-input-4-30f1754c4a1b>:3: RuntimeWarning: divide by zero encountered in log\n",
      "  pe=-np.log(h.T)\n"
     ]
    },
    {
     "data": {
      "image/png": "[encoded data removed]",
      "text/plain": [
       "<Figure size 144x144 with 2 Axes>"
      ]
     },
     "metadata": {
      "needs_background": "light"
     },
     "output_type": "display_data"
    }
   ],
   "source": [
    "plt.figure(figsize=(2,2))\n",
    "h, xedges, yedges = np.histogram2d(cv_ala2_eds_psi[len(cv_ala2_eds_psi)//2:,1],cv_ala2_eds_psi[len(cv_ala2_eds_psi)//2:,2],bins=(40,40),density=True)\n",
    "pe=-np.log(h.T)\n",
    "pe-=pe.min()\n",
    "plt.contourf(( xedges[:-1]+xedges[1:])*0.5, (yedges[1:]+yedges[:-1])*0.5, pe)\n",
    "#plt.xlim(-np.pi,np.pi)\n",
    "#plt.ylim(-np.pi,np.pi)\n",
    "plt.ylabel('$\\psi$')\n",
    "plt.xlabel('$\\phi$')\n",
    "plt.colorbar(label=\"FES (kT)\")\n",
    "plt.savefig('../figures/masterclass-22-6-ala2_eds_psi1.png',dpi=90)"
   ]
  },
  {
   "cell_type": "code",
   "execution_count": 5,
   "metadata": {},
   "outputs": [
    {
     "name": "stderr",
     "output_type": "stream",
     "text": [
      "<ipython-input-5-f489977ae8bb>:3: RuntimeWarning: divide by zero encountered in log\n",
      "  pe=-np.log(h.T)\n"
     ]
    },
    {
     "data": {
      "image/png": "[encoded data removed]",
      "text/plain": [
       "<Figure size 144x144 with 2 Axes>"
      ]
     },
     "metadata": {
      "needs_background": "light"
     },
     "output_type": "display_data"
    }
   ],
   "source": [
    "plt.figure(figsize=(2,2))\n",
    "h, xedges, yedges = np.histogram2d(cv_ala2_eds_phi[len(cv_ala2_eds_phi)//2:,1],cv_ala2_eds_phi[len(cv_ala2_eds_phi)//2:,2],bins=(40,40),density=True)\n",
    "pe=-np.log(h.T)\n",
    "pe-=pe.min()\n",
    "plt.contourf(( xedges[:-1]+xedges[1:])*0.5, (yedges[1:]+yedges[:-1])*0.5, pe)\n",
    "#plt.xlim(-np.pi,np.pi)\n",
    "#plt.ylim(-np.pi,np.pi)\n",
    "plt.ylabel('$\\psi$')\n",
    "plt.xlabel('$\\phi$')\n",
    "plt.colorbar(label=\"FES (kT)\")\n",
    "plt.savefig('../figures/masterclass-22-6-ala2_eds_phi1.png',dpi=90)"
   ]
  },
  {
   "cell_type": "code",
   "execution_count": null,
   "metadata": {},
   "outputs": [],
   "source": []
  }
 ],
 "metadata": {
  "kernelspec": {
   "display_name": "Python 3",
   "language": "python",
   "name": "python3"
  },
  "language_info": {
   "codemirror_mode": {
    "name": "ipython",
    "version": 3
   },
   "file_extension": ".py",
   "mimetype": "text/x-python",
   "name": "python",
   "nbconvert_exporter": "python",
   "pygments_lexer": "ipython3",
   "version": "3.8.6"
  }
 },
 "nbformat": 4,
 "nbformat_minor": 4
}
